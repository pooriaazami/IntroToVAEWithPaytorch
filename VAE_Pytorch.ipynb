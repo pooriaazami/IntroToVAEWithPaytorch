{
  "nbformat": 4,
  "nbformat_minor": 0,
  "metadata": {
    "colab": {
      "provenance": [],
      "collapsed_sections": []
    },
    "kernelspec": {
      "name": "python3",
      "display_name": "Python 3"
    },
    "language_info": {
      "name": "python"
    },
    "accelerator": "GPU"
  },
  "cells": [
    {
      "cell_type": "code",
      "execution_count": 1,
      "metadata": {
        "id": "Mh_r9gkV9Rx5"
      },
      "outputs": [],
      "source": [
        "import torch\n",
        "import torch.optim as optim\n",
        "\n",
        "import torch.nn as nn\n",
        "import torch.nn.functional as F\n",
        "\n",
        "import torchvision\n",
        "import torchvision.transforms as transforms\n",
        "\n",
        "import numpy as np\n",
        "import matplotlib.pyplot as plt\n",
        "from tqdm.notebook import tqdm"
      ]
    },
    {
      "cell_type": "code",
      "source": [
        "device = 'cuda' if torch.cuda.is_available() else 'cpu'\n",
        "device"
      ],
      "metadata": {
        "colab": {
          "base_uri": "https://localhost:8080/",
          "height": 35
        },
        "id": "b_P0kuj29wSw",
        "outputId": "fafd922f-d662-49e5-f5f2-0085bd309870"
      },
      "execution_count": 2,
      "outputs": [
        {
          "output_type": "execute_result",
          "data": {
            "text/plain": [
              "'cuda'"
            ],
            "application/vnd.google.colaboratory.intrinsic+json": {
              "type": "string"
            }
          },
          "metadata": {},
          "execution_count": 2
        }
      ]
    },
    {
      "cell_type": "code",
      "source": [
        "transform = transforms.Compose([\n",
        "    transforms.ToTensor(),\n",
        "])\n",
        "\n",
        "batch_size = 256\n",
        "\n",
        "trainset = torchvision.datasets.CIFAR10(root='./data',\n",
        "                                        train=True, \n",
        "                                        download=True,\n",
        "                                        transform=transform)\n",
        "trainloader = torch.utils.data.DataLoader(\n",
        "                                          trainset,\n",
        "                                          batch_size=batch_size,\n",
        "                                          shuffle=True,\n",
        "                                          num_workers=2\n",
        ")"
      ],
      "metadata": {
        "colab": {
          "base_uri": "https://localhost:8080/"
        },
        "id": "px7onumJ914X",
        "outputId": "6f5bf9d0-1061-4709-d30d-7370c87c4d88"
      },
      "execution_count": 26,
      "outputs": [
        {
          "output_type": "stream",
          "name": "stdout",
          "text": [
            "Files already downloaded and verified\n"
          ]
        }
      ]
    },
    {
      "cell_type": "code",
      "source": [
        "def imshow(img):\n",
        "  # img = img / 2 + 0.5\n",
        "  npimg = img.numpy()\n",
        "  plt.imshow(np.transpose(npimg, (1, 2, 0)))\n",
        "  plt.show()"
      ],
      "metadata": {
        "id": "juXEVNcB96d-"
      },
      "execution_count": 27,
      "outputs": []
    },
    {
      "cell_type": "code",
      "source": [
        "class Encoder(nn.Module):\n",
        "  def __init__(self, hidden_dim, latent_dim):\n",
        "    super(Encoder, self).__init__()\n",
        "\n",
        "    self.conv1 = nn.Conv2d(3, 16, 5, padding=(2, 2))\n",
        "    self.conv2 = nn.Conv2d(16, 32, 5, padding=(2, 2))\n",
        "    self.conv3 = nn.Conv2d(32, 64, 5, padding=(2, 2))\n",
        "\n",
        "    self.fc1 = nn.Linear(64 * 4 * 4, hidden_dim)\n",
        "    self.fc2 = nn.Linear(hidden_dim, hidden_dim)\n",
        "\n",
        "    self.mean = nn.Linear(hidden_dim, latent_dim)\n",
        "    self.var = nn.Linear(hidden_dim, latent_dim)\n",
        "\n",
        "    self.pool = nn.MaxPool2d(2, 2)\n",
        "    self.leaky_relu = nn.LeakyReLU(0.2)\n",
        "\n",
        "  def forward(self, x):\n",
        "    x = self.pool(self.leaky_relu(self.conv1(x)))\n",
        "    x = self.pool(self.leaky_relu(self.conv2(x)))\n",
        "    x = self.pool(self.leaky_relu(self.conv3(x)))\n",
        "\n",
        "    x = torch.flatten(x, 1)\n",
        "    x = self.leaky_relu(self.fc1(x))\n",
        "    x = self.leaky_relu(self.fc2(x))\n",
        "\n",
        "    mean = self.mean(x)\n",
        "    var = self.var(x)\n",
        "\n",
        "    return mean, var"
      ],
      "metadata": {
        "id": "zY6cIUmA9_p1"
      },
      "execution_count": 28,
      "outputs": []
    },
    {
      "cell_type": "code",
      "source": [
        "class Decoder(nn.Module):\n",
        "  def __init__(self, hidden_dim, latent_dim):\n",
        "    super(Decoder, self).__init__()\n",
        "    \n",
        "    self.fc1 = nn.Linear(latent_dim, hidden_dim)\n",
        "    self.fc2 = nn.Linear(hidden_dim, 64 * 4 * 4)\n",
        "\n",
        "    self.convt1 = nn.ConvTranspose2d(64, 32, 5, padding=(2, 2))\n",
        "    self.convt2 = nn.ConvTranspose2d(32, 16, 5, padding=(2, 2))\n",
        "    self.convt3 = nn.ConvTranspose2d(16, 3, 5, padding=(2, 2))\n",
        "\n",
        "    self.upsample = nn.Upsample(scale_factor=2, mode='nearest')\n",
        "    self.leaky_relu = nn.LeakyReLU(0.2)\n",
        "\n",
        "  def forward(self, x):\n",
        "    x = self.leaky_relu(self.fc1(x))\n",
        "    x = self.leaky_relu(self.fc2(x))\n",
        "\n",
        "    x = torch.reshape(x, (-1, 64, 4, 4))\n",
        "\n",
        "    x = self.upsample(self.leaky_relu(self.convt1(x)))\n",
        "    x = self.upsample(self.leaky_relu(self.convt2(x)))\n",
        "    x = self.upsample(self.leaky_relu(self.convt3(x)))\n",
        "    x = torch.sigmoid(x)\n",
        "\n",
        "    return x"
      ],
      "metadata": {
        "id": "FompzATS--wh"
      },
      "execution_count": 29,
      "outputs": []
    },
    {
      "cell_type": "code",
      "source": [
        "class VAE(nn.Module):\n",
        "  def __init__(self, encoder, decoder):\n",
        "        super(VAE, self).__init__()\n",
        "        self.encoder = encoder\n",
        "        self.decoder = decoder\n",
        "        \n",
        "  def reparameterization(self, mean, var):\n",
        "      epsilon = torch.randn_like(var).to(device)    \n",
        "      z = mean + var * epsilon                         \n",
        "      return z\n",
        "                \n",
        "  def forward(self, x):\n",
        "      mean, log_var = self.encoder(x)\n",
        "      z = self.reparameterization(mean, torch.exp(0.5 * log_var)) \n",
        "      x_hat = self.decoder(z)\n",
        "      \n",
        "      return x_hat, mean, log_var"
      ],
      "metadata": {
        "id": "J6nkCDlYAEoZ"
      },
      "execution_count": 30,
      "outputs": []
    },
    {
      "cell_type": "code",
      "source": [
        "latent_dim = 100\n",
        "hidden_dim = 200"
      ],
      "metadata": {
        "id": "2kek_LkNK0WW"
      },
      "execution_count": 31,
      "outputs": []
    },
    {
      "cell_type": "code",
      "source": [
        "encoder = Encoder(hidden_dim, latent_dim)\n",
        "decoder = Decoder(hidden_dim, latent_dim)\n",
        "\n",
        "vae = VAE(encoder, decoder).to(device)"
      ],
      "metadata": {
        "id": "KZgpZKiOAYg5"
      },
      "execution_count": 32,
      "outputs": []
    },
    {
      "cell_type": "code",
      "source": [
        "bce_loss = nn.BCELoss()\n",
        "\n",
        "def loss_function(x, x_hat, mean, log_var):\n",
        "  reproduction_loss = nn.functional.binary_cross_entropy(x_hat, x, reduction='sum')\n",
        "  KLD = -0.5 * torch.sum(1 + log_var - mean.pow(2) - log_var.exp())\n",
        "  # print(reproduction_loss.item(), KLD.item())\n",
        "  return reproduction_loss + KLD\n",
        "\n",
        "optimizer = optim.Adam(vae.parameters(), lr=1e-3)"
      ],
      "metadata": {
        "id": "yDbGKCicApdi"
      },
      "execution_count": 33,
      "outputs": []
    },
    {
      "cell_type": "code",
      "source": [
        "epochs = 100\n",
        "\n",
        "for epoch in range(1, epochs + 1):\n",
        "  total_loss = 0.0\n",
        "\n",
        "  for batch, data in enumerate(trainloader):\n",
        "    images, _ = data\n",
        "    images = images.to(device)\n",
        "\n",
        "    optimizer.zero_grad()\n",
        "    x_hat, mean, log_var = vae(images)\n",
        "    loss = loss_function(images, x_hat, mean, log_var)\n",
        "    loss.backward()\n",
        "    optimizer.step()\n",
        "\n",
        "    total_loss += loss.item()\n",
        "\n",
        "  print(f'[{epoch}/{epochs}] loss: {total_loss}')"
      ],
      "metadata": {
        "colab": {
          "base_uri": "https://localhost:8080/"
        },
        "id": "h4IylmRvIATm",
        "outputId": "5f9d68d7-028d-4623-ee32-53e1450f10d5"
      },
      "execution_count": 34,
      "outputs": [
        {
          "output_type": "stream",
          "name": "stdout",
          "text": [
            "[1/100] loss: 100464287.09375\n",
            "[2/100] loss: 97096072.375\n",
            "[3/100] loss: 96269878.140625\n",
            "[4/100] loss: 95369318.4375\n",
            "[5/100] loss: 94626066.625\n",
            "[6/100] loss: 94097096.15625\n",
            "[7/100] loss: 93916995.96875\n",
            "[8/100] loss: 93764658.515625\n",
            "[9/100] loss: 93565525.875\n",
            "[10/100] loss: 93480190.90625\n",
            "[11/100] loss: 93326050.203125\n",
            "[12/100] loss: 93171968.078125\n",
            "[13/100] loss: 93054301.78125\n",
            "[14/100] loss: 93004273.078125\n",
            "[15/100] loss: 92913750.859375\n",
            "[16/100] loss: 92863462.8125\n",
            "[17/100] loss: 92849095.890625\n",
            "[18/100] loss: 92818282.84375\n",
            "[19/100] loss: 92802520.828125\n",
            "[20/100] loss: 92738590.34375\n",
            "[21/100] loss: 92702160.78125\n",
            "[22/100] loss: 92658668.546875\n",
            "[23/100] loss: 92620780.15625\n",
            "[24/100] loss: 92565005.796875\n",
            "[25/100] loss: 92512827.703125\n",
            "[26/100] loss: 92480556.140625\n",
            "[27/100] loss: 92453069.640625\n",
            "[28/100] loss: 92428774.171875\n",
            "[29/100] loss: 92391889.078125\n",
            "[30/100] loss: 92356600.296875\n",
            "[31/100] loss: 92341210.515625\n",
            "[32/100] loss: 92308167.828125\n",
            "[33/100] loss: 92265571.4375\n",
            "[34/100] loss: 92240754.71875\n",
            "[35/100] loss: 92205904.203125\n",
            "[36/100] loss: 92178349.265625\n",
            "[37/100] loss: 92154376.515625\n",
            "[38/100] loss: 92153818.09375\n",
            "[39/100] loss: 92117259.203125\n",
            "[40/100] loss: 92085211.96875\n",
            "[41/100] loss: 92072146.828125\n",
            "[42/100] loss: 92061866.375\n",
            "[43/100] loss: 92008931.109375\n",
            "[44/100] loss: 92008742.796875\n",
            "[45/100] loss: 91982152.875\n",
            "[46/100] loss: 91968114.28125\n",
            "[47/100] loss: 91950242.78125\n",
            "[48/100] loss: 91938009.03125\n",
            "[49/100] loss: 91931870.125\n",
            "[50/100] loss: 91917622.9375\n",
            "[51/100] loss: 91902191.125\n",
            "[52/100] loss: 91897003.015625\n",
            "[53/100] loss: 91891890.796875\n",
            "[54/100] loss: 91878787.46875\n",
            "[55/100] loss: 91857956.046875\n",
            "[56/100] loss: 91856349.265625\n",
            "[57/100] loss: 91842999.0625\n",
            "[58/100] loss: 91833348.5625\n",
            "[59/100] loss: 91831295.484375\n",
            "[60/100] loss: 91815469.03125\n",
            "[61/100] loss: 91812725.0\n",
            "[62/100] loss: 91806559.40625\n",
            "[63/100] loss: 91789371.890625\n",
            "[64/100] loss: 91784009.21875\n",
            "[65/100] loss: 91774158.53125\n",
            "[66/100] loss: 91760353.828125\n",
            "[67/100] loss: 91745899.359375\n",
            "[68/100] loss: 91745945.859375\n",
            "[69/100] loss: 91722631.375\n",
            "[70/100] loss: 91708916.34375\n",
            "[71/100] loss: 91708521.453125\n",
            "[72/100] loss: 91700079.71875\n",
            "[73/100] loss: 91701246.140625\n",
            "[74/100] loss: 91688521.03125\n",
            "[75/100] loss: 91693025.984375\n",
            "[76/100] loss: 91680367.640625\n",
            "[77/100] loss: 91680847.375\n",
            "[78/100] loss: 91671073.34375\n",
            "[79/100] loss: 91666876.640625\n",
            "[80/100] loss: 91670730.546875\n",
            "[81/100] loss: 91669127.234375\n",
            "[82/100] loss: 91661695.84375\n",
            "[83/100] loss: 91654197.078125\n",
            "[84/100] loss: 91651835.09375\n",
            "[85/100] loss: 91652317.75\n",
            "[86/100] loss: 91652577.03125\n",
            "[87/100] loss: 91645817.078125\n",
            "[88/100] loss: 91639059.515625\n",
            "[89/100] loss: 91637489.84375\n",
            "[90/100] loss: 91628228.78125\n",
            "[91/100] loss: 91627505.625\n",
            "[92/100] loss: 91619341.6875\n",
            "[93/100] loss: 91617422.828125\n",
            "[94/100] loss: 91610868.265625\n",
            "[95/100] loss: 91601078.625\n",
            "[96/100] loss: 91603844.171875\n",
            "[97/100] loss: 91603688.734375\n",
            "[98/100] loss: 91605584.765625\n",
            "[99/100] loss: 91593759.5\n",
            "[100/100] loss: 91592112.984375\n"
          ]
        }
      ]
    },
    {
      "cell_type": "code",
      "source": [
        "with torch.no_grad():\n",
        "    noise = torch.randn(8, latent_dim).to(device)\n",
        "    generated_images = decoder(noise).cpu()"
      ],
      "metadata": {
        "id": "JRXgWmv0I5GH"
      },
      "execution_count": 35,
      "outputs": []
    },
    {
      "cell_type": "code",
      "source": [
        "imshow(torchvision.utils.make_grid(generated_images))"
      ],
      "metadata": {
        "colab": {
          "base_uri": "https://localhost:8080/",
          "height": 95
        },
        "id": "eFst5knqK7e7",
        "outputId": "f6c52e3d-dd16-4ea7-ab1c-37b8f18fa474"
      },
      "execution_count": 36,
      "outputs": [
        {
          "output_type": "display_data",
          "data": {
            "text/plain": [
              "<Figure size 432x288 with 1 Axes>"
            ],
            "image/png": "[encoded data removed]"
          },
          "metadata": {
            "needs_background": "light"
          }
        }
      ]
    },
    {
      "cell_type": "code",
      "source": [],
      "metadata": {
        "id": "-G3wGsNiLT3P"
      },
      "execution_count": 36,
      "outputs": []
    }
  ]
}